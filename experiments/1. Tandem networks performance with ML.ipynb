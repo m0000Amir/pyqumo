{
 "cells": [
  {
   "cell_type": "markdown",
   "id": "uniform-summit",
   "metadata": {},
   "source": [
    "# Эксперимент №1: расчет характеристик тандемной сети с узлами MAP/PH/1/N с помощью имитационного моделирования и машинного обучения\n",
    "\n",
    "В этом эксперименте мы рассчитаем различные характеристики сетей с линейной топологией, на вход которых поступает MAP-поток, а обслуживание имеет распределение фазового типа. Сначала мы рассчитаем характеристики на заданной сетке статистических параметров с помощью имитационного моделирования сети, а затем используем полученные результаты для обучения нейросетевых и других моделей ML, которые сможем использовать для очень быстрой оценки характеристик сетей. Например, такой подход полезен при нахождении решений задач оптимизации топологии, когда характеристики сетей с линейной топологией являются ограничениями в алгоритме ветвей и границ. "
   ]
  },
  {
   "cell_type": "markdown",
   "id": "collectible-interpretation",
   "metadata": {},
   "source": [
    "## Подготовка ноутбука\n",
    "\n",
    "Импортируем все необходимые библиотеки, настроим флаги и константы, которыми будем пользоваться в эксперименте, и определим служебные функции, чтобы не отвлекаться на них в расчетной части эксперимента."
   ]
  },
  {
   "cell_type": "code",
   "execution_count": 10,
   "id": "requested-question",
   "metadata": {},
   "outputs": [
    {
     "name": "stdout",
     "output_type": "stream",
     "text": [
      "The autoreload extension is already loaded. To reload it, use:\n",
      "  %reload_ext autoreload\n"
     ]
    }
   ],
   "source": [
    "# Если что-то меняется в коде, мы хотим это сразу видеть здесь\n",
    "%load_ext autoreload\n",
    "%autoreload 2"
   ]
  },
  {
   "cell_type": "code",
   "execution_count": 11,
   "id": "cardiovascular-worst",
   "metadata": {},
   "outputs": [],
   "source": [
    "import os\n",
    "import matplotlib\n",
    "import matplotlib.pyplot as plt\n",
    "from matplotlib import cm\n",
    "\n",
    "from tabulate import tabulate\n",
    "from tqdm.notebook import tqdm\n",
    "\n",
    "from itertools import product\n",
    "from collections import namedtuple\n",
    "import time\n",
    "import numpy as np\n",
    "import pandas as pd\n",
    "\n",
    "# Подключаем локальные пакеты\n",
    "from pyqumo.random import Distribution, Exponential, HyperExponential, Erlang\n",
    "from pyqumo.cqumo.sim import simulate_tandem"
   ]
  },
  {
   "cell_type": "code",
   "execution_count": 12,
   "id": "alike-photography",
   "metadata": {},
   "outputs": [],
   "source": [
    "# Настраиваем matplotlib\n",
    "%matplotlib inline\n",
    "matplotlib.rcParams.update({'font.size': 16})"
   ]
  },
  {
   "cell_type": "markdown",
   "id": "proved-account",
   "metadata": {},
   "source": [
    "Определим переменные окружения, которые будут использоваться в эксперименте."
   ]
  },
  {
   "cell_type": "code",
   "execution_count": 13,
   "id": "behavioral-demonstration",
   "metadata": {},
   "outputs": [],
   "source": [
    "# Нужно ли пересчитывать все, или можно использовать результаты из файлов\n",
    "FORCE_SIMULATION = False\n",
    "SIM_FILE_NAME = '01_tandem_simulation.csv'\n",
    "SIM_FILE_DIR = 'data'\n",
    "SIM_FILE_PATH = os.path.join(SIM_FILE_DIR, SIM_FILE_NAME)\n",
    "\n",
    "# Зададим число пакетов, передачу которых по сети мы будем моделировать.\n",
    "# Чем выше это число, тем точнее результаты, но на их получение нужно больше времени.\n",
    "NUM_PACKETS = 100000\n",
    "\n",
    "# Цветовая схема для графиков\n",
    "CMAP_NAME = 'viridis'"
   ]
  },
  {
   "cell_type": "code",
   "execution_count": 14,
   "id": "indie-bandwidth",
   "metadata": {},
   "outputs": [],
   "source": [
    "def get_color(x):\n",
    "    \"\"\"\n",
    "    Получить цвет из текущей карты.\n",
    "    \"\"\"\n",
    "    return cm.get_cmap(CMAP_NAME)(x)"
   ]
  },
  {
   "cell_type": "markdown",
   "id": "5465ff1c",
   "metadata": {},
   "source": [
    "## Нахождение PH-распределений\n",
    "\n",
    "PH-распределения для моделирования входящего потока и времени обслуживания будем находить по первым двум моментам по следующим правилам:\n",
    "\n",
    "- если коэффициент вариации $c = \\sigma / m_1 < 1$, то в качестве PH-распределения возьмем распределение Эрланга с самым близким значением $\\tilde{\\sigma}$;\n",
    "- если коэффициент вариации $c > 1$, то в качестве PH-распределения возьмем гиперэкспоненциальное распределение;\n",
    "- если коэффициент вариации $c = 1$, то распределение - экспоненциальное."
   ]
  },
  {
   "cell_type": "code",
   "execution_count": 15,
   "id": "d138c2ae",
   "metadata": {},
   "outputs": [],
   "source": [
    "def fit_ph(avg: float, std: float) -> Distribution:\n",
    "    \"\"\"\n",
    "    Возвращает PH-распределение по стандартному отклонению и среднему значению.\n",
    "    \"\"\"\n",
    "    cv = std / avg\n",
    "    if cv == 1:\n",
    "        return Exponential(avg)\n",
    "    if cv > 1:\n",
    "        return HyperExponential.fit(avg, std)\n",
    "    return Erlang.fit(avg, std)"
   ]
  },
  {
   "cell_type": "markdown",
   "id": "wicked-validation",
   "metadata": {},
   "source": [
    "## Вызов имитационной модели, чтение и сохранение результатов\n",
    "\n",
    "Определим полезные функции, которые нам потребуются для работы с данными имитационного моделирования:\n",
    "\n",
    "- `load_sim_data()`: читает файл `SIM_FILE_NAME`, если он существует, или создает новый `DataFrame` для хранения данных о результатах имитационного моделирования.\n",
    "- `save_sim_data()`: сохраняет результаты, записанные в `DataFrame`, в файл `SIM_FILE_PATH`."
   ]
  },
  {
   "cell_type": "code",
   "execution_count": 16,
   "id": "acoustic-preparation",
   "metadata": {},
   "outputs": [
    {
     "name": "stdout",
     "output_type": "stream",
     "text": [
      "<class 'pandas.core.frame.DataFrame'>\n",
      "Int64Index: 30784 entries, 0 to 30783\n",
      "Data columns (total 13 columns):\n",
      " #   Column        Non-Null Count  Dtype  \n",
      "---  ------        --------------  -----  \n",
      " 0   ArrAvg        30784 non-null  float64\n",
      " 1   ArrStd        30784 non-null  float64\n",
      " 2   ArrCv         30784 non-null  float64\n",
      " 3   SrvAvg        30784 non-null  float64\n",
      " 4   SrvStd        30784 non-null  float64\n",
      " 5   SrvCv         30784 non-null  float64\n",
      " 6   Rho           30784 non-null  float64\n",
      " 7   NetSize       30784 non-null  float64\n",
      " 8   Capacity      30784 non-null  float64\n",
      " 9   NumPackets    30784 non-null  float64\n",
      " 10  DelayAvg      30784 non-null  float64\n",
      " 11  DelayStd      30784 non-null  float64\n",
      " 12  DeliveryProb  30784 non-null  float64\n",
      "dtypes: float64(13)\n",
      "memory usage: 3.3 MB\n"
     ]
    }
   ],
   "source": [
    "COLUMNS = (\n",
    "    'ArrAvg', \n",
    "    'ArrStd', \n",
    "    'ArrCv', \n",
    "    'SrvAvg', \n",
    "    'SrvStd', \n",
    "    'SrvCv', \n",
    "    'Rho', \n",
    "    'NetSize', \n",
    "    'Capacity', \n",
    "    'NumPackets',\n",
    "    'DelayAvg', \n",
    "    'DelayStd', \n",
    "    'DeliveryProb',\n",
    ")\n",
    "\n",
    "\n",
    "def save_sim_data(df: pd.DataFrame):\n",
    "    \"\"\"\n",
    "    Сохранить в файл данные о результатах имитационного моделирования.\n",
    "    \"\"\"\n",
    "    if not os.path.exists(SIM_FILE_DIR):\n",
    "        os.makedirs(SIM_FILE_DIR)\n",
    "    df.to_csv(SIM_FILE_PATH, index_label='Id')\n",
    "\n",
    "    \n",
    "def load_sim_data() -> pd.DataFrame:\n",
    "    \"\"\"\n",
    "    Загрузить данные о резулдьтатах имитационного моделирования.\n",
    "    \"\"\"       \n",
    "    if os.path.exists(SIM_FILE_PATH):\n",
    "        return pd.read_csv(SIM_FILE_PATH, index_col='Id')\n",
    "    return pd.DataFrame(columns=COLUMNS, index_col='Id')\n",
    "\n",
    "sim_data = load_sim_data()\n",
    "sim_data.info()"
   ]
  },
  {
   "cell_type": "markdown",
   "id": "durable-malpractice",
   "metadata": {},
   "source": [
    "Функция `simulate(df, force=False, ...) -> pd.DataFrame` работает следующим образом:\n",
    "\n",
    "- если в `df` нет строки, соответствующей переданным параметрам, то выполняется симуляция и функция возвращает новый `DataFrame`, содержащий результаты симуляции;\n",
    "- если в `df` есть строка, соответствующая переданным параметрам, то симуляция выполняется, если выполнено любое из следующих условий:\n",
    "    - передан аргумент `debug=True`\n",
    "    - в настройках окружения (см. выше) установлен флаг `FORCE_SIMULATION=True`\n",
    "    - если число пакетов, которые нужно промоделировать, больше числа пакетов, которое использовалось в предыдущей симуляции\n",
    "\n",
    "Функция возвращает новый `DataFrame`, содержащий результаты заданной симуляции."
   ]
  },
  {
   "cell_type": "code",
   "execution_count": 17,
   "id": "hungry-bulgaria",
   "metadata": {},
   "outputs": [],
   "source": [
    "def simulate(\n",
    "    df: pd.DataFrame, *, \n",
    "    arr_avg: float,\n",
    "    arr_std: float,\n",
    "    srv_avg: float,\n",
    "    srv_std: float,\n",
    "    net_size: int,\n",
    "    capacity: int,\n",
    "    num_packets: int,\n",
    "    force: bool = False\n",
    ") -> pd.DataFrame:\n",
    "    \"\"\"\n",
    "    Выполнить симуляцию, если результатов нет в `df` или требуется их пересчитать, и вернуть новый `DataFrame`.\n",
    "    \"\"\"\n",
    "    row_df = df[\n",
    "        (df.ArrAvg == arr_avg) &\n",
    "        (df.ArrStd == arr_std) &\n",
    "        (df.SrvAvg == srv_avg) &\n",
    "        (df.SrvStd == srv_std) &\n",
    "        (df.NetSize == net_size) &\n",
    "        (df.Capacity == capacity)]\n",
    "    \n",
    "    # Вычислим признаки, которые говорят о необходимости пересчета:\n",
    "    no_row = len(row_df) == 0\n",
    "    not_enough_packets = (not no_row) and (row_df.NumPackets.iloc[0] < num_packets)\n",
    "\n",
    "    # Проверим, нужно ли пересчитать результаты:\n",
    "    if force or no_row or not_enough_packets:\n",
    "        arr = fit_ph(avg=arr_avg, std=arr_std)\n",
    "        srv = fit_ph(avg=srv_avg, std=srv_std)\n",
    "        ret = simulate_tandem(arr, [srv] * net_size, capacity, num_packets)\n",
    "\n",
    "        row_data = {\n",
    "            'ArrAvg': arr_avg,\n",
    "            'ArrStd': arr_std,\n",
    "            'ArrCv': arr_std / arr_avg,\n",
    "            'SrvAvg': srv_avg,\n",
    "            'SrvStd': srv_std,\n",
    "            'SrvCv': srv_std / srv_avg,\n",
    "            'Rho': srv_avg / arr_avg,\n",
    "            'NetSize': net_size,\n",
    "            'Capacity': capacity,\n",
    "            'NumPackets': num_packets,\n",
    "            'DelayAvg': ret.delivery_delays[0].avg,\n",
    "            'DelayStd': ret.delivery_delays[0].std,\n",
    "            'DeliveryProb': ret.delivery_prob[0],\n",
    "        }\n",
    "\n",
    "        # Если строки еще вообще не было, добавляем ее, а если была - обновляем:\n",
    "        if no_row:\n",
    "            df = df.append(row_data, ignore_index=True)\n",
    "        else:\n",
    "            df.update(pd.DataFrame(row_data, index=[row_df.index[0]]))\n",
    "\n",
    "    return df"
   ]
  },
  {
   "cell_type": "markdown",
   "id": "prompt-accident",
   "metadata": {},
   "source": [
    "## Определяем сетку параметров модели\n",
    "\n",
    "Будем считать, что сеть состоит из $L$ узлов, пакеты поступают на первую станцию и передаються по сети до тех пор, пока не будут обслужены последней станцией, либо не будут потерены из-за переполнения буфера на очередном узле.\n",
    "\n",
    "Сеть будем описывать с помощью шести параметров:\n",
    "\n",
    "- среднее значение интервалов между последовательными поступлениями пакетов в сеть ($\\lambda^{-1}$)\n",
    "- стандартное отклонение величин интервалов между последовательными поступлениями пакетов в сеть ($\\sigma_A$)\n",
    "- средняя длительность обслуживания ($\\mu^{-1}$)\n",
    "- стандартное отклонение длительности обслуживания ($\\sigma_S$)\n",
    "- число станций в сети ($L$)\n",
    "- емкость очередей ($N$)\n",
    "\n",
    "Из этих параметров можно полуить производные значения, которые оказываются более удобными при анализе:\n",
    "\n",
    "- загрузка первой станции $\\rho = \\lambda / \\mu$\n",
    "- коэффициент вариации интервалов между поступлениями пакетов $c_A = \\lambda \\sigma_A$\n",
    "- коэффициент вариации времени обслуживания $c_S = \\mu \\sigma_S$\n",
    "\n",
    "Сетку будем задавать на множестве параметров $(\\lambda^{-1}, \\sigma_A, \\mu^{-1}, \\sigma_S, L, N)$.\n",
    "\n",
    "Чтобы не пересчитывать результаты каждый раз заново, будем сохранять результаты расчета в файл `data/01_tandem_simulations.csv`. Если такого файла нет, или установлен флаг `FORCE_SIMULATION = True`, то каждая точка сетки будет рассчитана заново, а результаты расчета будут сохранены в файл. В противном случае расчет будет выполняться только в тогда, когда точки нет в файле, или в текущем расчете предполагается моделировать больше пакетов, то есть получить более точные результаты."
   ]
  },
  {
   "cell_type": "code",
   "execution_count": 18,
   "id": "parallel-frank",
   "metadata": {},
   "outputs": [
    {
     "data": {
      "application/vnd.jupyter.widget-view+json": {
       "model_id": "a60ee0f248444ebb8ddd52c0f5ece894",
       "version_major": 2,
       "version_minor": 0
      },
      "text/plain": [
       "  0%|          | 0/1 [00:00<?, ?it/s]"
      ]
     },
     "metadata": {},
     "output_type": "display_data"
    },
    {
     "name": "stdout",
     "output_type": "stream",
     "text": [
      "<class 'pandas.core.frame.DataFrame'>\n",
      "Int64Index: 30784 entries, 0 to 30783\n",
      "Data columns (total 13 columns):\n",
      " #   Column        Non-Null Count  Dtype  \n",
      "---  ------        --------------  -----  \n",
      " 0   ArrAvg        30784 non-null  float64\n",
      " 1   ArrStd        30784 non-null  float64\n",
      " 2   ArrCv         30784 non-null  float64\n",
      " 3   SrvAvg        30784 non-null  float64\n",
      " 4   SrvStd        30784 non-null  float64\n",
      " 5   SrvCv         30784 non-null  float64\n",
      " 6   Rho           30784 non-null  float64\n",
      " 7   NetSize       30784 non-null  float64\n",
      " 8   Capacity      30784 non-null  float64\n",
      " 9   NumPackets    30784 non-null  float64\n",
      " 10  DelayAvg      30784 non-null  float64\n",
      " 11  DelayStd      30784 non-null  float64\n",
      " 12  DeliveryProb  30784 non-null  float64\n",
      "dtypes: float64(13)\n",
      "memory usage: 3.3 MB\n",
      "None\n",
      "       ArrAvg  ArrStd     ArrCv  SrvAvg  SrvStd     SrvCv       Rho  NetSize  \\\n",
      "Id                                                                             \n",
      "0        10.0     1.0  0.100000     2.5     1.0  0.400000  0.250000      5.0   \n",
      "1        10.0     1.0  0.100000     2.5     2.5  1.000000  0.250000      5.0   \n",
      "2        10.0     1.0  0.100000     2.5     5.0  2.000000  0.250000      5.0   \n",
      "3        10.0     1.0  0.100000     2.5     7.5  3.000000  0.250000      5.0   \n",
      "4        10.0     1.0  0.100000     2.5    10.0  4.000000  0.250000      5.0   \n",
      "...       ...     ...       ...     ...     ...       ...       ...      ...   \n",
      "30779    15.0     1.0  0.066667     5.5    10.0  1.818182  0.366667     15.0   \n",
      "30780    15.0     1.0  0.066667     7.0     1.0  0.142857  0.466667      5.0   \n",
      "30781    15.0     1.0  0.066667     7.0     1.0  0.142857  0.466667      5.0   \n",
      "30782    15.0     1.0  0.066667     7.0     1.0  0.142857  0.466667      5.0   \n",
      "30783    15.0     1.0  0.066667     7.0     1.0  0.142857  0.466667      7.0   \n",
      "\n",
      "       Capacity  NumPackets    DelayAvg   DelayStd  DeliveryProb  \n",
      "Id                                                                \n",
      "0          10.0    100000.0   12.015575   2.198482      1.000000  \n",
      "1          10.0    100000.0    2.001673   0.892632      1.000000  \n",
      "2          10.0    100000.0   20.475771  15.438371      0.999870  \n",
      "3          10.0    100000.0   32.864920  30.728997      0.988750  \n",
      "4          10.0    100000.0   46.208859  48.752192      0.940214  \n",
      "...         ...         ...         ...        ...           ...  \n",
      "30779      12.0    100000.0  205.681676  55.165858      0.994459  \n",
      "30780       6.0    100000.0   35.007438   2.240895      1.000000  \n",
      "30781      10.0    100000.0   35.017528   2.230672      1.000000  \n",
      "30782      12.0    100000.0   35.014115   2.233020      1.000000  \n",
      "30783       6.0    100000.0   49.028281   2.620644      1.000000  \n",
      "\n",
      "[30784 rows x 13 columns]\n"
     ]
    }
   ],
   "source": [
    "# ARRIVAL_AVG = [1, 3, 5, 7, 10, 13, 15, 17]\n",
    "# ARRIVAL_STD = [1, 3, 5, 7, 10, 13, 15, 17]\n",
    "# SERVICE_AVG = [2.5, 3. , 5. , 5.5, 7. , 8]\n",
    "# SERVICE_STD = [1.,  2.5,  4, 5, 6, 7.5, 10]\n",
    "# NET_SIZE = [5,  7,  9, 11, 15]\n",
    "# CAPACITY = [6, 10, 12]\n",
    "\n",
    "\n",
    "ARRIVAL_AVG = [1]\n",
    "ARRIVAL_STD = [1]\n",
    "SERVICE_AVG = [2.5]\n",
    "SERVICE_STD = [1.]\n",
    "NET_SIZE = [5]\n",
    "CAPACITY = [6]\n",
    "\n",
    "# Объединим все параметры в декартово произведение:\n",
    "ALL_PARAMS = list(product(ARRIVAL_AVG, ARRIVAL_STD, SERVICE_AVG, SERVICE_STD, NET_SIZE, CAPACITY))\n",
    "\n",
    "# Выполним симуляцию, если нужно:\n",
    "for arr_avg, arr_std, srv_avg, srv_std, net_size, capacity in tqdm(ALL_PARAMS):\n",
    "    sim_data = simulate(\n",
    "        sim_data,\n",
    "        arr_avg=arr_avg,\n",
    "        arr_std=arr_std,\n",
    "        srv_avg=srv_avg,\n",
    "        srv_std=srv_std,\n",
    "        net_size=net_size,\n",
    "        capacity=capacity,\n",
    "        num_packets=NUM_PACKETS,\n",
    "        force=FORCE_SIMULATION\n",
    "    )\n",
    "\n",
    "print(sim_data.info())\n",
    "print(sim_data)\n",
    "\n",
    "# Сохраняем результат:\n",
    "save_sim_data(sim_data)"
   ]
  },
  {
   "cell_type": "code",
   "execution_count": null,
   "id": "biblical-extension",
   "metadata": {},
   "outputs": [],
   "source": []
  },
  {
   "cell_type": "code",
   "execution_count": null,
   "id": "upset-explanation",
   "metadata": {},
   "outputs": [],
   "source": []
  }
 ],
 "metadata": {
  "kernelspec": {
   "display_name": "Python 3 (ipykernel)",
   "language": "python",
   "name": "python3"
  },
  "language_info": {
   "codemirror_mode": {
    "name": "ipython",
    "version": 3
   },
   "file_extension": ".py",
   "mimetype": "text/x-python",
   "name": "python",
   "nbconvert_exporter": "python",
   "pygments_lexer": "ipython3",
   "version": "3.8.0"
  }
 },
 "nbformat": 4,
 "nbformat_minor": 5
}
